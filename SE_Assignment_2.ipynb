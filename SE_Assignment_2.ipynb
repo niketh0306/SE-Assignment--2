{
  "nbformat": 4,
  "nbformat_minor": 0,
  "metadata": {
    "colab": {
      "provenance": [],
      "authorship_tag": "ABX9TyPOjX/YbP1W0Aq2BHLmcQhV",
      "include_colab_link": true
    },
    "kernelspec": {
      "name": "python3",
      "display_name": "Python 3"
    },
    "language_info": {
      "name": "python"
    }
  },
  "cells": [
    {
      "cell_type": "markdown",
      "metadata": {
        "id": "view-in-github",
        "colab_type": "text"
      },
      "source": [
        "<a href=\"https://colab.research.google.com/github/niketh0306/SE-Assignment--2/blob/main/SE_Assignment_2.ipynb\" target=\"_parent\"><img src=\"https://colab.research.google.com/assets/colab-badge.svg\" alt=\"Open In Colab\"/></a>"
      ]
    },
    {
      "cell_type": "code",
      "execution_count": 8,
      "metadata": {
        "colab": {
          "base_uri": "https://localhost:8080/"
        },
        "id": "pin3rSmJmdn7",
        "outputId": "564936b8-94ca-4f4a-f4cc-3098f876f88b"
      },
      "outputs": [
        {
          "output_type": "stream",
          "name": "stdout",
          "text": [
            "City: New York\n",
            "Temperature: 25°C\n",
            "Humidity: 60%\n"
          ]
        }
      ],
      "source": [
        "# Hardcoded weather data\n",
        "city = \"New York\"\n",
        "temperature = 25  # in Celsius\n",
        "humidity = 60  # in percentage\n",
        "\n",
        "print(f\"City: {city}\")\n",
        "print(f\"Temperature: {temperature}°C\")\n",
        "print(f\"Humidity: {humidity}%\")\n",
        "\n"
      ]
    },
    {
      "cell_type": "code",
      "source": [
        "# Keyboard input for weather data\n",
        "city = input(\"Enter city name: \")\n",
        "temperature = float(input(f\"Enter temperature in {city} (°C): \"))\n",
        "humidity = int(input(f\"Enter humidity percentage in {city}: \"))\n",
        "\n",
        "print(f\"City: {city}\")\n",
        "print(f\"Temperature: {temperature}°C\")\n",
        "print(f\"Humidity: {humidity}%\")\n"
      ],
      "metadata": {
        "colab": {
          "base_uri": "https://localhost:8080/"
        },
        "id": "cLGGJqPdnGmj",
        "outputId": "1646ad89-dcec-49f1-bdf7-8851a0a45547"
      },
      "execution_count": 10,
      "outputs": [
        {
          "output_type": "stream",
          "name": "stdout",
          "text": [
            "Enter city name: Hyderabad\n",
            "Enter temperature in Hyderabad (°C): 26\n",
            "Enter humidity percentage in Hyderabad: 30\n",
            "City: Hyderabad\n",
            "Temperature: 26.0°C\n",
            "Humidity: 30%\n"
          ]
        }
      ]
    },
    {
      "cell_type": "code",
      "source": [
        "# Create a file with single weather data\n",
        "with open(\"weather_single.txt\", \"w\") as f:\n",
        "    f.write(\"Los Angeles,28,55\")\n",
        "\n",
        "# Read weather data from the file\n",
        "try:\n",
        "    with open(\"weather_single.txt\", \"r\") as f:\n",
        "        data = f.read().strip()\n",
        "    city, temperature, humidity = data.split(\",\")\n",
        "    print(f\"City: {city}\")\n",
        "    print(f\"Temperature: {temperature}°C\")\n",
        "    print(f\"Humidity: {humidity}%\")\n",
        "except FileNotFoundError:\n",
        "    print(\"File not found. Please create the file first.\")\n",
        "except ValueError:\n",
        "    print(\"Error in file format. Ensure it is 'City,Temperature,Humidity'\")\n"
      ],
      "metadata": {
        "colab": {
          "base_uri": "https://localhost:8080/"
        },
        "id": "tcG5c0_qr70Y",
        "outputId": "446e6ed4-66fb-49e0-bf57-860e3d7a2730"
      },
      "execution_count": 14,
      "outputs": [
        {
          "output_type": "stream",
          "name": "stdout",
          "text": [
            "City: Los Angeles\n",
            "Temperature: 28°C\n",
            "Humidity: 55%\n"
          ]
        }
      ]
    },
    {
      "cell_type": "code",
      "source": [
        "# Create a file with multiple weather data entries\n",
        "with open(\"weather_multiple.txt\", \"w\") as f:\n",
        "    f.write(\"Hyderabad,15,70\\nBangalore,20,65\\nMumbai,30,80\")\n",
        "\n",
        "# Read and process multiple weather records\n",
        "try:\n",
        "    with open(\"weather_multiple.txt\", \"r\") as f:\n",
        "        lines = f.readlines()\n",
        "    weather_data = []\n",
        "    for line in lines:\n",
        "        city, temp, humidity = line.strip().split(\",\")\n",
        "        weather_data.append((city, float(temp), int(humidity)))\n",
        "    print(\"Weather Data:\")\n",
        "    for record in weather_data:\n",
        "        print(f\"City: {record[0]}, Temperature: {record[1]}°C, Humidity: {record[2]}%\")\n",
        "except FileNotFoundError:\n",
        "    print(\"File not found. Please create the file first.\")\n",
        "except ValueError:\n",
        "    print(\"Error in file format. Ensure each line is 'City,Temperature,Humidity'\")\n"
      ],
      "metadata": {
        "colab": {
          "base_uri": "https://localhost:8080/"
        },
        "id": "6mhdGaomsJ0c",
        "outputId": "3aecfb05-4f1e-4779-c48f-bf31a98ef453"
      },
      "execution_count": 15,
      "outputs": [
        {
          "output_type": "stream",
          "name": "stdout",
          "text": [
            "Weather Data:\n",
            "City: Hyderabad, Temperature: 15.0°C, Humidity: 70%\n",
            "City: Bangalore, Temperature: 20.0°C, Humidity: 65%\n",
            "City: Mumbai, Temperature: 30.0°C, Humidity: 80%\n"
          ]
        }
      ]
    },
    {
      "cell_type": "code",
      "source": [
        "# Save the program versions\n",
        "code_version_1 = '''\n",
        "city = \"Hyderabad\"\n",
        "temperature = 25\n",
        "humidity = 60\n",
        "print(f\"City: {city}, Temperature: {temperature}°C, Humidity: {humidity}%\")\n",
        "'''\n",
        "with open(\"version1.py\", \"w\") as f:\n",
        "    f.write(code_version_1)\n",
        "\n",
        "print(\"Version 1 saved.\")\n"
      ],
      "metadata": {
        "colab": {
          "base_uri": "https://localhost:8080/"
        },
        "id": "pTKb1xxusmp5",
        "outputId": "8597fa3b-f27e-4d28-befa-bb9f4041a219"
      },
      "execution_count": 16,
      "outputs": [
        {
          "output_type": "stream",
          "name": "stdout",
          "text": [
            "Version 1 saved.\n"
          ]
        }
      ]
    },
    {
      "cell_type": "code",
      "source": [
        "# Handle errors in user input\n",
        "try:\n",
        "    city = input(\"Enter city name: \")\n",
        "    temperature = float(input(\"Enter temperature in Celsius: \"))\n",
        "    humidity = int(input(\"Enter humidity percentage: \"))\n",
        "    print(f\"City: {city}, Temperature: {temperature}°C, Humidity: {humidity}%\")\n",
        "except ValueError:\n",
        "    print(\"Invalid input. Please enter numerical values for temperature and humidity.\")\n"
      ],
      "metadata": {
        "colab": {
          "base_uri": "https://localhost:8080/"
        },
        "id": "eKb1iCp4tWge",
        "outputId": "5478e812-d841-4425-af29-f3634f169baf"
      },
      "execution_count": 17,
      "outputs": [
        {
          "output_type": "stream",
          "name": "stdout",
          "text": [
            "Enter city name: Bangalore\n",
            "Enter temperature in Celsius: 20\n",
            "Enter humidity percentage: 20\n",
            "City: Bangalore, Temperature: 20.0°C, Humidity: 20%\n"
          ]
        }
      ]
    },
    {
      "cell_type": "code",
      "source": [
        "# Configure git\n",
        "!git config --global user.name \"YourGitHubUsername\"\n",
        "!git config --global user.email \"YourGitHubEmail\"\n",
        "\n",
        "# Clone your repository (if not already done)\n",
        "!git clone https://github.com/YourGitHubUsername/WeatherModel.git\n",
        "\n",
        "# Copy all Python files to the repository folder\n",
        "!cp *.py WeatherModel/\n",
        "\n",
        "# Push to GitHub\n",
        "!cd WeatherModel && git add . && git commit -m \"Added weather model versions\" && git push\n"
      ],
      "metadata": {
        "id": "2XXJP6MHtibV"
      },
      "execution_count": null,
      "outputs": []
    }
  ]
}